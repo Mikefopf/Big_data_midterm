{
 "cells": [
  {
   "cell_type": "markdown",
   "source": [
    "### Import libraries"
   ],
   "metadata": {
    "collapsed": false
   }
  },
  {
   "cell_type": "code",
   "execution_count": 53,
   "metadata": {
    "collapsed": true
   },
   "outputs": [],
   "source": [
    "import pandas as pd\n",
    "import datetime\n",
    "import json\n",
    "from transliterate import get_translit_function\n",
    "\n",
    "from IPython.core.interactiveshell import InteractiveShell\n",
    "\n",
    "InteractiveShell.ast_node_interactivity = \"all\"\n",
    "pd.set_option('display.max_columns', None)"
   ]
  },
  {
   "cell_type": "markdown",
   "source": [
    "### Preprocess BoardingData.csv"
   ],
   "metadata": {
    "collapsed": false,
    "pycharm": {
     "name": "#%% md\n"
    }
   }
  },
  {
   "cell_type": "code",
   "execution_count": 54,
   "outputs": [
    {
     "data": {
      "text/plain": "  PassengerFirstName PassengerSecondName PassengerLastName PassengerSex  \\\n0            SAVELII         VIKTOROVICH           RUSANOV         Male   \n1                LEV           MARKOVICH             ISAEV         Male   \n2            NIKOLAI                  I.         NIKOLSKII         Male   \n3           ANATOLII           PETROVICH            SHILOV         Male   \n4          MIROSLAVA      VIACHESLAVOVNA          SEMENOVA       Female   \n\n  PassengerBirthDate PassengerDocument    BookingCode      TicketNumber  \\\n0         03/10/1983       2879 096860         FRNINO  6625956945991971   \n1         12/13/1975       1788 173211  Not presented  1643715499224676   \n2         12/26/1990       4396 926588         VWNYGF  6247422701565929   \n3         05/24/1997       2595 919752         WQFFUE     Not presented   \n4         01/31/1976       6775 516990  Not presented     Not presented   \n\n      Baggage  FlightDate FlightTime FlightNumber CodeShare Destination  \n0     Transit  2017-03-22      06:05       SU1369       Own      Moscow  \n1  Registered  2017-03-18      22:10       SU1180       Own   Volgograd  \n2     Transit  2017-03-18      22:10       SU1180       Own   Volgograd  \n3  Registered  2017-03-18      22:10       SU1180       Own   Volgograd  \n4  Registered  2017-03-12      11:45       SU6284       Own      Moscow  ",
      "text/html": "<div>\n<style scoped>\n    .dataframe tbody tr th:only-of-type {\n        vertical-align: middle;\n    }\n\n    .dataframe tbody tr th {\n        vertical-align: top;\n    }\n\n    .dataframe thead th {\n        text-align: right;\n    }\n</style>\n<table border=\"1\" class=\"dataframe\">\n  <thead>\n    <tr style=\"text-align: right;\">\n      <th></th>\n      <th>PassengerFirstName</th>\n      <th>PassengerSecondName</th>\n      <th>PassengerLastName</th>\n      <th>PassengerSex</th>\n      <th>PassengerBirthDate</th>\n      <th>PassengerDocument</th>\n      <th>BookingCode</th>\n      <th>TicketNumber</th>\n      <th>Baggage</th>\n      <th>FlightDate</th>\n      <th>FlightTime</th>\n      <th>FlightNumber</th>\n      <th>CodeShare</th>\n      <th>Destination</th>\n    </tr>\n  </thead>\n  <tbody>\n    <tr>\n      <th>0</th>\n      <td>SAVELII</td>\n      <td>VIKTOROVICH</td>\n      <td>RUSANOV</td>\n      <td>Male</td>\n      <td>03/10/1983</td>\n      <td>2879 096860</td>\n      <td>FRNINO</td>\n      <td>6625956945991971</td>\n      <td>Transit</td>\n      <td>2017-03-22</td>\n      <td>06:05</td>\n      <td>SU1369</td>\n      <td>Own</td>\n      <td>Moscow</td>\n    </tr>\n    <tr>\n      <th>1</th>\n      <td>LEV</td>\n      <td>MARKOVICH</td>\n      <td>ISAEV</td>\n      <td>Male</td>\n      <td>12/13/1975</td>\n      <td>1788 173211</td>\n      <td>Not presented</td>\n      <td>1643715499224676</td>\n      <td>Registered</td>\n      <td>2017-03-18</td>\n      <td>22:10</td>\n      <td>SU1180</td>\n      <td>Own</td>\n      <td>Volgograd</td>\n    </tr>\n    <tr>\n      <th>2</th>\n      <td>NIKOLAI</td>\n      <td>I.</td>\n      <td>NIKOLSKII</td>\n      <td>Male</td>\n      <td>12/26/1990</td>\n      <td>4396 926588</td>\n      <td>VWNYGF</td>\n      <td>6247422701565929</td>\n      <td>Transit</td>\n      <td>2017-03-18</td>\n      <td>22:10</td>\n      <td>SU1180</td>\n      <td>Own</td>\n      <td>Volgograd</td>\n    </tr>\n    <tr>\n      <th>3</th>\n      <td>ANATOLII</td>\n      <td>PETROVICH</td>\n      <td>SHILOV</td>\n      <td>Male</td>\n      <td>05/24/1997</td>\n      <td>2595 919752</td>\n      <td>WQFFUE</td>\n      <td>Not presented</td>\n      <td>Registered</td>\n      <td>2017-03-18</td>\n      <td>22:10</td>\n      <td>SU1180</td>\n      <td>Own</td>\n      <td>Volgograd</td>\n    </tr>\n    <tr>\n      <th>4</th>\n      <td>MIROSLAVA</td>\n      <td>VIACHESLAVOVNA</td>\n      <td>SEMENOVA</td>\n      <td>Female</td>\n      <td>01/31/1976</td>\n      <td>6775 516990</td>\n      <td>Not presented</td>\n      <td>Not presented</td>\n      <td>Registered</td>\n      <td>2017-03-12</td>\n      <td>11:45</td>\n      <td>SU6284</td>\n      <td>Own</td>\n      <td>Moscow</td>\n    </tr>\n  </tbody>\n</table>\n</div>"
     },
     "execution_count": 54,
     "metadata": {},
     "output_type": "execute_result"
    },
    {
     "name": "stdout",
     "output_type": "stream",
     "text": [
      "<class 'pandas.core.frame.DataFrame'>\n",
      "RangeIndex: 155147 entries, 0 to 155146\n",
      "Data columns (total 14 columns):\n",
      " #   Column               Non-Null Count   Dtype \n",
      "---  ------               --------------   ----- \n",
      " 0   PassengerFirstName   155147 non-null  object\n",
      " 1   PassengerSecondName  155147 non-null  object\n",
      " 2   PassengerLastName    155147 non-null  object\n",
      " 3   PassengerSex         155147 non-null  object\n",
      " 4   PassengerBirthDate   155147 non-null  object\n",
      " 5   PassengerDocument    155147 non-null  object\n",
      " 6   BookingCode          155147 non-null  object\n",
      " 7   TicketNumber         155147 non-null  object\n",
      " 8   Baggage              155147 non-null  object\n",
      " 9   FlightDate           155147 non-null  object\n",
      " 10  FlightTime           155147 non-null  object\n",
      " 11  FlightNumber         155147 non-null  object\n",
      " 12  CodeShare            155147 non-null  object\n",
      " 13  Destination          155147 non-null  object\n",
      "dtypes: object(14)\n",
      "memory usage: 16.6+ MB\n"
     ]
    },
    {
     "data": {
      "text/plain": "       PassengerFirstName PassengerSecondName PassengerLastName PassengerSex  \\\ncount              155147              155147            155147       155147   \nunique                200                 214              1006            2   \ntop                 NAZAR                  A.          CHERNYKH       Female   \nfreq                  932               11119               290        77863   \n\n       PassengerBirthDate PassengerDocument    BookingCode   TicketNumber  \\\ncount              155147            155147         155147         155147   \nunique              11301             73263          77374          77348   \ntop            10/27/1991       1548 113497  Not presented  Not presented   \nfreq                   45                16          77761          77800   \n\n           Baggage  FlightDate FlightTime FlightNumber CodeShare Destination  \ncount       155147      155147     155147       155147    155147      155147  \nunique           4         366        206          385         2          48  \ntop     Registered  2017-01-01      06:05       SU4606       Own      Moscow  \nfreq         38957        5262       3221         2909    146373       88022  ",
      "text/html": "<div>\n<style scoped>\n    .dataframe tbody tr th:only-of-type {\n        vertical-align: middle;\n    }\n\n    .dataframe tbody tr th {\n        vertical-align: top;\n    }\n\n    .dataframe thead th {\n        text-align: right;\n    }\n</style>\n<table border=\"1\" class=\"dataframe\">\n  <thead>\n    <tr style=\"text-align: right;\">\n      <th></th>\n      <th>PassengerFirstName</th>\n      <th>PassengerSecondName</th>\n      <th>PassengerLastName</th>\n      <th>PassengerSex</th>\n      <th>PassengerBirthDate</th>\n      <th>PassengerDocument</th>\n      <th>BookingCode</th>\n      <th>TicketNumber</th>\n      <th>Baggage</th>\n      <th>FlightDate</th>\n      <th>FlightTime</th>\n      <th>FlightNumber</th>\n      <th>CodeShare</th>\n      <th>Destination</th>\n    </tr>\n  </thead>\n  <tbody>\n    <tr>\n      <th>count</th>\n      <td>155147</td>\n      <td>155147</td>\n      <td>155147</td>\n      <td>155147</td>\n      <td>155147</td>\n      <td>155147</td>\n      <td>155147</td>\n      <td>155147</td>\n      <td>155147</td>\n      <td>155147</td>\n      <td>155147</td>\n      <td>155147</td>\n      <td>155147</td>\n      <td>155147</td>\n    </tr>\n    <tr>\n      <th>unique</th>\n      <td>200</td>\n      <td>214</td>\n      <td>1006</td>\n      <td>2</td>\n      <td>11301</td>\n      <td>73263</td>\n      <td>77374</td>\n      <td>77348</td>\n      <td>4</td>\n      <td>366</td>\n      <td>206</td>\n      <td>385</td>\n      <td>2</td>\n      <td>48</td>\n    </tr>\n    <tr>\n      <th>top</th>\n      <td>NAZAR</td>\n      <td>A.</td>\n      <td>CHERNYKH</td>\n      <td>Female</td>\n      <td>10/27/1991</td>\n      <td>1548 113497</td>\n      <td>Not presented</td>\n      <td>Not presented</td>\n      <td>Registered</td>\n      <td>2017-01-01</td>\n      <td>06:05</td>\n      <td>SU4606</td>\n      <td>Own</td>\n      <td>Moscow</td>\n    </tr>\n    <tr>\n      <th>freq</th>\n      <td>932</td>\n      <td>11119</td>\n      <td>290</td>\n      <td>77863</td>\n      <td>45</td>\n      <td>16</td>\n      <td>77761</td>\n      <td>77800</td>\n      <td>38957</td>\n      <td>5262</td>\n      <td>3221</td>\n      <td>2909</td>\n      <td>146373</td>\n      <td>88022</td>\n    </tr>\n  </tbody>\n</table>\n</div>"
     },
     "execution_count": 54,
     "metadata": {},
     "output_type": "execute_result"
    }
   ],
   "source": [
    "boarding_data = pd.read_csv(\"data/BoardingData.csv\", delimiter=\";\")\n",
    "boarding_data.head(5)\n",
    "boarding_data.info()\n",
    "boarding_data.describe()\n"
   ],
   "metadata": {
    "collapsed": false,
    "pycharm": {
     "name": "#%%\n"
    }
   }
  },
  {
   "cell_type": "code",
   "execution_count": 55,
   "outputs": [
    {
     "data": {
      "text/plain": "  ArrivalCity BaggageState BookingCode  CodeShare DepartureDate DepartureTime  \\\n0      Moscow      Transit      FRNINO      False    2017-03-22         06:05   \n1   Volgograd   Registered         NaN      False    2017-03-18         22:10   \n2   Volgograd      Transit      VWNYGF      False    2017-03-18         22:10   \n3   Volgograd   Registered      WQFFUE      False    2017-03-18         22:10   \n4      Moscow   Registered         NaN      False    2017-03-12         11:45   \n\n  FlightNumber PassengerBirthDate PassengerDocument PassengerFirstName  \\\n0       SU1369         1983-03-10       2879 096860            SAVELII   \n1       SU1180         1975-12-13       1788 173211                LEV   \n2       SU1180         1990-12-26       4396 926588            NIKOLAI   \n3       SU1180         1997-05-24       2595 919752           ANATOLII   \n4       SU6284         1976-01-31       6775 516990          MIROSLAVA   \n\n  PassengerLastName PassengerSecondName PassengerSex      TicketNumber  \n0           RUSANOV         VIKTOROVICH         Male  6625956945991971  \n1             ISAEV           MARKOVICH         Male  1643715499224676  \n2         NIKOLSKII                  I.         Male  6247422701565929  \n3            SHILOV           PETROVICH         Male               NaN  \n4          SEMENOVA      VIACHESLAVOVNA       Female               NaN  ",
      "text/html": "<div>\n<style scoped>\n    .dataframe tbody tr th:only-of-type {\n        vertical-align: middle;\n    }\n\n    .dataframe tbody tr th {\n        vertical-align: top;\n    }\n\n    .dataframe thead th {\n        text-align: right;\n    }\n</style>\n<table border=\"1\" class=\"dataframe\">\n  <thead>\n    <tr style=\"text-align: right;\">\n      <th></th>\n      <th>ArrivalCity</th>\n      <th>BaggageState</th>\n      <th>BookingCode</th>\n      <th>CodeShare</th>\n      <th>DepartureDate</th>\n      <th>DepartureTime</th>\n      <th>FlightNumber</th>\n      <th>PassengerBirthDate</th>\n      <th>PassengerDocument</th>\n      <th>PassengerFirstName</th>\n      <th>PassengerLastName</th>\n      <th>PassengerSecondName</th>\n      <th>PassengerSex</th>\n      <th>TicketNumber</th>\n    </tr>\n  </thead>\n  <tbody>\n    <tr>\n      <th>0</th>\n      <td>Moscow</td>\n      <td>Transit</td>\n      <td>FRNINO</td>\n      <td>False</td>\n      <td>2017-03-22</td>\n      <td>06:05</td>\n      <td>SU1369</td>\n      <td>1983-03-10</td>\n      <td>2879 096860</td>\n      <td>SAVELII</td>\n      <td>RUSANOV</td>\n      <td>VIKTOROVICH</td>\n      <td>Male</td>\n      <td>6625956945991971</td>\n    </tr>\n    <tr>\n      <th>1</th>\n      <td>Volgograd</td>\n      <td>Registered</td>\n      <td>NaN</td>\n      <td>False</td>\n      <td>2017-03-18</td>\n      <td>22:10</td>\n      <td>SU1180</td>\n      <td>1975-12-13</td>\n      <td>1788 173211</td>\n      <td>LEV</td>\n      <td>ISAEV</td>\n      <td>MARKOVICH</td>\n      <td>Male</td>\n      <td>1643715499224676</td>\n    </tr>\n    <tr>\n      <th>2</th>\n      <td>Volgograd</td>\n      <td>Transit</td>\n      <td>VWNYGF</td>\n      <td>False</td>\n      <td>2017-03-18</td>\n      <td>22:10</td>\n      <td>SU1180</td>\n      <td>1990-12-26</td>\n      <td>4396 926588</td>\n      <td>NIKOLAI</td>\n      <td>NIKOLSKII</td>\n      <td>I.</td>\n      <td>Male</td>\n      <td>6247422701565929</td>\n    </tr>\n    <tr>\n      <th>3</th>\n      <td>Volgograd</td>\n      <td>Registered</td>\n      <td>WQFFUE</td>\n      <td>False</td>\n      <td>2017-03-18</td>\n      <td>22:10</td>\n      <td>SU1180</td>\n      <td>1997-05-24</td>\n      <td>2595 919752</td>\n      <td>ANATOLII</td>\n      <td>SHILOV</td>\n      <td>PETROVICH</td>\n      <td>Male</td>\n      <td>NaN</td>\n    </tr>\n    <tr>\n      <th>4</th>\n      <td>Moscow</td>\n      <td>Registered</td>\n      <td>NaN</td>\n      <td>False</td>\n      <td>2017-03-12</td>\n      <td>11:45</td>\n      <td>SU6284</td>\n      <td>1976-01-31</td>\n      <td>6775 516990</td>\n      <td>MIROSLAVA</td>\n      <td>SEMENOVA</td>\n      <td>VIACHESLAVOVNA</td>\n      <td>Female</td>\n      <td>NaN</td>\n    </tr>\n  </tbody>\n</table>\n</div>"
     },
     "execution_count": 55,
     "metadata": {},
     "output_type": "execute_result"
    },
    {
     "name": "stdout",
     "output_type": "stream",
     "text": [
      "<class 'pandas.core.frame.DataFrame'>\n",
      "RangeIndex: 155147 entries, 0 to 155146\n",
      "Data columns (total 14 columns):\n",
      " #   Column               Non-Null Count   Dtype \n",
      "---  ------               --------------   ----- \n",
      " 0   ArrivalCity          155147 non-null  object\n",
      " 1   BaggageState         155147 non-null  object\n",
      " 2   BookingCode          155147 non-null  object\n",
      " 3   CodeShare            155147 non-null  bool  \n",
      " 4   DepartureDate        155147 non-null  object\n",
      " 5   DepartureTime        155147 non-null  object\n",
      " 6   FlightNumber         155147 non-null  object\n",
      " 7   PassengerBirthDate   155147 non-null  object\n",
      " 8   PassengerDocument    155147 non-null  object\n",
      " 9   PassengerFirstName   155147 non-null  object\n",
      " 10  PassengerLastName    155147 non-null  object\n",
      " 11  PassengerSecondName  155147 non-null  object\n",
      " 12  PassengerSex         155147 non-null  object\n",
      " 13  TicketNumber         155147 non-null  object\n",
      "dtypes: bool(1), object(13)\n",
      "memory usage: 15.5+ MB\n"
     ]
    },
    {
     "data": {
      "text/plain": "       ArrivalCity BaggageState BookingCode CodeShare DepartureDate  \\\ncount       155147       155147      155147    155147        155147   \nunique          48            4       77374         2           366   \ntop         Moscow   Registered         NaN     False    2017-01-01   \nfreq         88022        38957       77761    146373          5262   \n\n       DepartureTime FlightNumber PassengerBirthDate PassengerDocument  \\\ncount         155147       155147             155147            155147   \nunique           206          385              11301             73263   \ntop            06:05       SU4606         1991-10-27       1548 113497   \nfreq            3221         2909                 45                16   \n\n       PassengerFirstName PassengerLastName PassengerSecondName PassengerSex  \\\ncount              155147            155147              155147       155147   \nunique                200              1006                 214            2   \ntop                 NAZAR          CHERNYKH                  A.       Female   \nfreq                  932               290               11119        77863   \n\n       TicketNumber  \ncount        155147  \nunique        77348  \ntop             NaN  \nfreq          77800  ",
      "text/html": "<div>\n<style scoped>\n    .dataframe tbody tr th:only-of-type {\n        vertical-align: middle;\n    }\n\n    .dataframe tbody tr th {\n        vertical-align: top;\n    }\n\n    .dataframe thead th {\n        text-align: right;\n    }\n</style>\n<table border=\"1\" class=\"dataframe\">\n  <thead>\n    <tr style=\"text-align: right;\">\n      <th></th>\n      <th>ArrivalCity</th>\n      <th>BaggageState</th>\n      <th>BookingCode</th>\n      <th>CodeShare</th>\n      <th>DepartureDate</th>\n      <th>DepartureTime</th>\n      <th>FlightNumber</th>\n      <th>PassengerBirthDate</th>\n      <th>PassengerDocument</th>\n      <th>PassengerFirstName</th>\n      <th>PassengerLastName</th>\n      <th>PassengerSecondName</th>\n      <th>PassengerSex</th>\n      <th>TicketNumber</th>\n    </tr>\n  </thead>\n  <tbody>\n    <tr>\n      <th>count</th>\n      <td>155147</td>\n      <td>155147</td>\n      <td>155147</td>\n      <td>155147</td>\n      <td>155147</td>\n      <td>155147</td>\n      <td>155147</td>\n      <td>155147</td>\n      <td>155147</td>\n      <td>155147</td>\n      <td>155147</td>\n      <td>155147</td>\n      <td>155147</td>\n      <td>155147</td>\n    </tr>\n    <tr>\n      <th>unique</th>\n      <td>48</td>\n      <td>4</td>\n      <td>77374</td>\n      <td>2</td>\n      <td>366</td>\n      <td>206</td>\n      <td>385</td>\n      <td>11301</td>\n      <td>73263</td>\n      <td>200</td>\n      <td>1006</td>\n      <td>214</td>\n      <td>2</td>\n      <td>77348</td>\n    </tr>\n    <tr>\n      <th>top</th>\n      <td>Moscow</td>\n      <td>Registered</td>\n      <td>NaN</td>\n      <td>False</td>\n      <td>2017-01-01</td>\n      <td>06:05</td>\n      <td>SU4606</td>\n      <td>1991-10-27</td>\n      <td>1548 113497</td>\n      <td>NAZAR</td>\n      <td>CHERNYKH</td>\n      <td>A.</td>\n      <td>Female</td>\n      <td>NaN</td>\n    </tr>\n    <tr>\n      <th>freq</th>\n      <td>88022</td>\n      <td>38957</td>\n      <td>77761</td>\n      <td>146373</td>\n      <td>5262</td>\n      <td>3221</td>\n      <td>2909</td>\n      <td>45</td>\n      <td>16</td>\n      <td>932</td>\n      <td>290</td>\n      <td>11119</td>\n      <td>77863</td>\n      <td>77800</td>\n    </tr>\n  </tbody>\n</table>\n</div>"
     },
     "execution_count": 55,
     "metadata": {},
     "output_type": "execute_result"
    }
   ],
   "source": [
    "def convert_date_to_iso8601(val: str):\n",
    "    date = datetime.datetime.strptime(val, \"%m/%d/%Y\").date()\n",
    "    return date.strftime('%Y-%m-%d')\n",
    "\n",
    "\n",
    "boarding_data['PassengerBirthDate'] = boarding_data['PassengerBirthDate'].apply(convert_date_to_iso8601)\n",
    "boarding_data.rename(\n",
    "    columns={\"FlightDate\": \"DepartureDate\", \"FlightTime\": \"DepartureTime\", \"Destination\": \"ArrivalCity\",\n",
    "             \"Baggage\": \"BaggageState\"},\n",
    "    inplace=True)\n",
    "boarding_data = boarding_data.replace({'Not presented': \"NaN\"})\n",
    "boarding_data[\"CodeShare\"].replace({\"Own\": False, \"Operated\": True}, inplace=True)\n",
    "boarding_data = boarding_data.reindex(sorted(boarding_data.columns), axis=1)\n",
    "\n",
    "boarding_data.head(5)\n",
    "boarding_data.info()\n",
    "boarding_data.describe()"
   ],
   "metadata": {
    "collapsed": false,
    "pycharm": {
     "name": "#%%\n"
    }
   }
  },
  {
   "cell_type": "markdown",
   "source": [
    "### Preprocess Sirena-export-fixed.tab"
   ],
   "metadata": {
    "collapsed": false
   }
  },
  {
   "cell_type": "code",
   "execution_count": 56,
   "outputs": [
    {
     "data": {
      "text/plain": "                           PaxName PaxBirthDate  DepartDate DepartTime  \\\n0         ОЗЕРОВ ИЛЬДАР ДАНИИЛОВИЧ   1999-05-15  2017-05-30      00:05   \n1       КОЛОСОВ САМИР ТАМЕРЛАНОВИЧ          NaN  2017-12-27      02:15   \n2  ИГНАТОВА СНЕЖАНА КОНСТАНТИНОВНА          NaN  2017-09-19      06:40   \n3         ЖАРОВ ПЛАТОН АЛЬБЕРТОВИЧ   1999-05-02  2017-03-18      22:10   \n4      НИКОЛЬСКИЙ НИКОЛАЙ ИГОРЕВИЧ   1990-12-26  2017-03-18      22:10   \n\n  ArrivalDate ArrivalTime FlightCodeSh From Dest    Code          e-Ticket  \\\n0  2017-05-30       08:05     SU1306NO  SVO  OVB  ZBQSPY  7360415302044672   \n1  2017-12-27       04:40     SU1323NO  MMK  SVO  MHPBBX  7398421117936516   \n2  2017-09-19       07:45     SU1481NO  KJA  SVO  REDLVB  5174973140468001   \n3  2017-03-19       01:05     SU1180NO  SVO  VOG  NSJNGQ  5274206497242737   \n4  2017-03-19       01:05     SU1180NO  SVO  VOG  VWNYGF  6247422701565929   \n\n     TravelDoc  Seat  Meal TrvCls    Fare Baggage  \\\n0  9375 053270   NaN   NaN      J  JGRPGN     0PC   \n1  2244 645520   NaN  KSML      Y  YRSTUQ     NaN   \n2  8115 961316   NaN   NaN      Y  YSTNJL     NaN   \n3   98 6865148   NaN   NaN      J  JFLXLS     0PC   \n4  4396 926588   NaN   NaN      Y  YFLXPG     NaN   \n\n                         PaxAdditionalInfo    AgentInfo  \n0   S                       FF#SU 38116280       Go2See  \n1  9                       FF#FB 284903754          NaN  \n2                                        F    KupiBilet  \n3  #                       FF#FB 884556993  Travelgenio  \n4                          FF#SU 183142068  OZON.travel  ",
      "text/html": "<div>\n<style scoped>\n    .dataframe tbody tr th:only-of-type {\n        vertical-align: middle;\n    }\n\n    .dataframe tbody tr th {\n        vertical-align: top;\n    }\n\n    .dataframe thead th {\n        text-align: right;\n    }\n</style>\n<table border=\"1\" class=\"dataframe\">\n  <thead>\n    <tr style=\"text-align: right;\">\n      <th></th>\n      <th>PaxName</th>\n      <th>PaxBirthDate</th>\n      <th>DepartDate</th>\n      <th>DepartTime</th>\n      <th>ArrivalDate</th>\n      <th>ArrivalTime</th>\n      <th>FlightCodeSh</th>\n      <th>From</th>\n      <th>Dest</th>\n      <th>Code</th>\n      <th>e-Ticket</th>\n      <th>TravelDoc</th>\n      <th>Seat</th>\n      <th>Meal</th>\n      <th>TrvCls</th>\n      <th>Fare</th>\n      <th>Baggage</th>\n      <th>PaxAdditionalInfo</th>\n      <th>AgentInfo</th>\n    </tr>\n  </thead>\n  <tbody>\n    <tr>\n      <th>0</th>\n      <td>ОЗЕРОВ ИЛЬДАР ДАНИИЛОВИЧ</td>\n      <td>1999-05-15</td>\n      <td>2017-05-30</td>\n      <td>00:05</td>\n      <td>2017-05-30</td>\n      <td>08:05</td>\n      <td>SU1306NO</td>\n      <td>SVO</td>\n      <td>OVB</td>\n      <td>ZBQSPY</td>\n      <td>7360415302044672</td>\n      <td>9375 053270</td>\n      <td>NaN</td>\n      <td>NaN</td>\n      <td>J</td>\n      <td>JGRPGN</td>\n      <td>0PC</td>\n      <td>S                       FF#SU 38116280</td>\n      <td>Go2See</td>\n    </tr>\n    <tr>\n      <th>1</th>\n      <td>КОЛОСОВ САМИР ТАМЕРЛАНОВИЧ</td>\n      <td>NaN</td>\n      <td>2017-12-27</td>\n      <td>02:15</td>\n      <td>2017-12-27</td>\n      <td>04:40</td>\n      <td>SU1323NO</td>\n      <td>MMK</td>\n      <td>SVO</td>\n      <td>MHPBBX</td>\n      <td>7398421117936516</td>\n      <td>2244 645520</td>\n      <td>NaN</td>\n      <td>KSML</td>\n      <td>Y</td>\n      <td>YRSTUQ</td>\n      <td>NaN</td>\n      <td>9                       FF#FB 284903754</td>\n      <td>NaN</td>\n    </tr>\n    <tr>\n      <th>2</th>\n      <td>ИГНАТОВА СНЕЖАНА КОНСТАНТИНОВНА</td>\n      <td>NaN</td>\n      <td>2017-09-19</td>\n      <td>06:40</td>\n      <td>2017-09-19</td>\n      <td>07:45</td>\n      <td>SU1481NO</td>\n      <td>KJA</td>\n      <td>SVO</td>\n      <td>REDLVB</td>\n      <td>5174973140468001</td>\n      <td>8115 961316</td>\n      <td>NaN</td>\n      <td>NaN</td>\n      <td>Y</td>\n      <td>YSTNJL</td>\n      <td>NaN</td>\n      <td>F</td>\n      <td>KupiBilet</td>\n    </tr>\n    <tr>\n      <th>3</th>\n      <td>ЖАРОВ ПЛАТОН АЛЬБЕРТОВИЧ</td>\n      <td>1999-05-02</td>\n      <td>2017-03-18</td>\n      <td>22:10</td>\n      <td>2017-03-19</td>\n      <td>01:05</td>\n      <td>SU1180NO</td>\n      <td>SVO</td>\n      <td>VOG</td>\n      <td>NSJNGQ</td>\n      <td>5274206497242737</td>\n      <td>98 6865148</td>\n      <td>NaN</td>\n      <td>NaN</td>\n      <td>J</td>\n      <td>JFLXLS</td>\n      <td>0PC</td>\n      <td>#                       FF#FB 884556993</td>\n      <td>Travelgenio</td>\n    </tr>\n    <tr>\n      <th>4</th>\n      <td>НИКОЛЬСКИЙ НИКОЛАЙ ИГОРЕВИЧ</td>\n      <td>1990-12-26</td>\n      <td>2017-03-18</td>\n      <td>22:10</td>\n      <td>2017-03-19</td>\n      <td>01:05</td>\n      <td>SU1180NO</td>\n      <td>SVO</td>\n      <td>VOG</td>\n      <td>VWNYGF</td>\n      <td>6247422701565929</td>\n      <td>4396 926588</td>\n      <td>NaN</td>\n      <td>NaN</td>\n      <td>Y</td>\n      <td>YFLXPG</td>\n      <td>NaN</td>\n      <td>FF#SU 183142068</td>\n      <td>OZON.travel</td>\n    </tr>\n  </tbody>\n</table>\n</div>"
     },
     "execution_count": 56,
     "metadata": {},
     "output_type": "execute_result"
    },
    {
     "name": "stdout",
     "output_type": "stream",
     "text": [
      "<class 'pandas.core.frame.DataFrame'>\n",
      "RangeIndex: 155757 entries, 0 to 155756\n",
      "Data columns (total 19 columns):\n",
      " #   Column             Non-Null Count   Dtype  \n",
      "---  ------             --------------   -----  \n",
      " 0   PaxName            155757 non-null  object \n",
      " 1   PaxBirthDate       77703 non-null   object \n",
      " 2   DepartDate         155757 non-null  object \n",
      " 3   DepartTime         155757 non-null  object \n",
      " 4   ArrivalDate        155757 non-null  object \n",
      " 5   ArrivalTime        155757 non-null  object \n",
      " 6   FlightCodeSh       155757 non-null  object \n",
      " 7   From               155757 non-null  object \n",
      " 8   Dest               155757 non-null  object \n",
      " 9   Code               155757 non-null  object \n",
      " 10  e-Ticket           155757 non-null  int64  \n",
      " 11  TravelDoc          155757 non-null  object \n",
      " 12  Seat               0 non-null       float64\n",
      " 13  Meal               58148 non-null   object \n",
      " 14  TrvCls             155757 non-null  object \n",
      " 15  Fare               155757 non-null  object \n",
      " 16  Baggage            85064 non-null   object \n",
      " 17  PaxAdditionalInfo  130530 non-null  object \n",
      " 18  AgentInfo          143814 non-null  object \n",
      "dtypes: float64(1), int64(1), object(17)\n",
      "memory usage: 22.6+ MB\n"
     ]
    },
    {
     "data": {
      "text/plain": "           e-Ticket  Seat\ncount  1.557570e+05   0.0\nmean   5.010077e+15   NaN\nstd    2.881055e+15   NaN\nmin    5.811780e+10   NaN\n25%    2.521718e+15   NaN\n50%    5.019438e+15   NaN\n75%    7.499988e+15   NaN\nmax    9.999858e+15   NaN",
      "text/html": "<div>\n<style scoped>\n    .dataframe tbody tr th:only-of-type {\n        vertical-align: middle;\n    }\n\n    .dataframe tbody tr th {\n        vertical-align: top;\n    }\n\n    .dataframe thead th {\n        text-align: right;\n    }\n</style>\n<table border=\"1\" class=\"dataframe\">\n  <thead>\n    <tr style=\"text-align: right;\">\n      <th></th>\n      <th>e-Ticket</th>\n      <th>Seat</th>\n    </tr>\n  </thead>\n  <tbody>\n    <tr>\n      <th>count</th>\n      <td>1.557570e+05</td>\n      <td>0.0</td>\n    </tr>\n    <tr>\n      <th>mean</th>\n      <td>5.010077e+15</td>\n      <td>NaN</td>\n    </tr>\n    <tr>\n      <th>std</th>\n      <td>2.881055e+15</td>\n      <td>NaN</td>\n    </tr>\n    <tr>\n      <th>min</th>\n      <td>5.811780e+10</td>\n      <td>NaN</td>\n    </tr>\n    <tr>\n      <th>25%</th>\n      <td>2.521718e+15</td>\n      <td>NaN</td>\n    </tr>\n    <tr>\n      <th>50%</th>\n      <td>5.019438e+15</td>\n      <td>NaN</td>\n    </tr>\n    <tr>\n      <th>75%</th>\n      <td>7.499988e+15</td>\n      <td>NaN</td>\n    </tr>\n    <tr>\n      <th>max</th>\n      <td>9.999858e+15</td>\n      <td>NaN</td>\n    </tr>\n  </tbody>\n</table>\n</div>"
     },
     "execution_count": 56,
     "metadata": {},
     "output_type": "execute_result"
    }
   ],
   "source": [
    "sirena_export = pd.read_fwf(\"data/Sirena-export-fixed.tab\",\n",
    "                            colspecs=[(0, 60), (60, 72), (72, 84), (84, 96), (96, 108), (108, 120), (120, 132),\n",
    "                                      (132, 138), (138, 144), (144, 150), (150, 168), (168, 180), (180, 186),\n",
    "                                      (186, 192), (192, 198), (198, 204), (204, 216), (216, 276), (276, 336)])\n",
    "sirena_export.head(5)\n",
    "sirena_export.info()\n",
    "sirena_export.describe()"
   ],
   "metadata": {
    "collapsed": false,
    "pycharm": {
     "name": "#%%\n"
    }
   }
  },
  {
   "cell_type": "code",
   "execution_count": 57,
   "outputs": [
    {
     "data": {
      "text/plain": "     AgentInfo ArrivalAirport ArrivalDate ArrivalTime BaggageCount  \\\n0       Go2See            OVB  2017-05-30       08:05          0PC   \n1          NaN            SVO  2017-12-27       04:40          NaN   \n2    KupiBilet            SVO  2017-09-19       07:45          NaN   \n3  Travelgenio            VOG  2017-03-19       01:05          0PC   \n4  OZON.travel            VOG  2017-03-19       01:05          NaN   \n\n  BookingCode  CodeShare DepartureAirport DepartureDate DepartureTime    Fare  \\\n0      ZBQSPY      False              SVO    2017-05-30         00:05  JGRPGN   \n1      MHPBBX      False              MMK    2017-12-27         02:15  YRSTUQ   \n2      REDLVB      False              KJA    2017-09-19         06:40  YSTNJL   \n3      NSJNGQ      False              SVO    2017-03-18         22:10  JFLXLS   \n4      VWNYGF      False              SVO    2017-03-18         22:10  YFLXPG   \n\n  FlightNumber  Meal                  PassengerAdditionalInfo  \\\n0       SU1306   NaN   S                       FF#SU 38116280   \n1       SU1323  KSML  9                       FF#FB 284903754   \n2       SU1481   NaN                                        F   \n3       SU1180   NaN  #                       FF#FB 884556993   \n4       SU1180   NaN                          FF#SU 183142068   \n\n  PassengerBirthDate PassengerClass PassengerDocument PassengerFirstName  \\\n0         1999-05-15              J       9375 053270              ILDAR   \n1                NaN              Y       2244 645520              SAMIR   \n2                NaN              Y       8115 961316           SNEZHANA   \n3         1999-05-02              J        98 6865148             PLATON   \n4         1990-12-26              Y       4396 926588            NIKOLAI   \n\n  PassengerLastName PassengerSecondName      TicketNumber  \n0            OZEROV         DANIILOVICH  7360415302044672  \n1           KOLOSOV       TAMERLANOVICH  7398421117936516  \n2          IGNATOVA      KONSTANTINOVNA  5174973140468001  \n3            ZHAROV         ALBERTOVICH  5274206497242737  \n4         NIKOLSKII           IGOREVICH  6247422701565929  ",
      "text/html": "<div>\n<style scoped>\n    .dataframe tbody tr th:only-of-type {\n        vertical-align: middle;\n    }\n\n    .dataframe tbody tr th {\n        vertical-align: top;\n    }\n\n    .dataframe thead th {\n        text-align: right;\n    }\n</style>\n<table border=\"1\" class=\"dataframe\">\n  <thead>\n    <tr style=\"text-align: right;\">\n      <th></th>\n      <th>AgentInfo</th>\n      <th>ArrivalAirport</th>\n      <th>ArrivalDate</th>\n      <th>ArrivalTime</th>\n      <th>BaggageCount</th>\n      <th>BookingCode</th>\n      <th>CodeShare</th>\n      <th>DepartureAirport</th>\n      <th>DepartureDate</th>\n      <th>DepartureTime</th>\n      <th>Fare</th>\n      <th>FlightNumber</th>\n      <th>Meal</th>\n      <th>PassengerAdditionalInfo</th>\n      <th>PassengerBirthDate</th>\n      <th>PassengerClass</th>\n      <th>PassengerDocument</th>\n      <th>PassengerFirstName</th>\n      <th>PassengerLastName</th>\n      <th>PassengerSecondName</th>\n      <th>TicketNumber</th>\n    </tr>\n  </thead>\n  <tbody>\n    <tr>\n      <th>0</th>\n      <td>Go2See</td>\n      <td>OVB</td>\n      <td>2017-05-30</td>\n      <td>08:05</td>\n      <td>0PC</td>\n      <td>ZBQSPY</td>\n      <td>False</td>\n      <td>SVO</td>\n      <td>2017-05-30</td>\n      <td>00:05</td>\n      <td>JGRPGN</td>\n      <td>SU1306</td>\n      <td>NaN</td>\n      <td>S                       FF#SU 38116280</td>\n      <td>1999-05-15</td>\n      <td>J</td>\n      <td>9375 053270</td>\n      <td>ILDAR</td>\n      <td>OZEROV</td>\n      <td>DANIILOVICH</td>\n      <td>7360415302044672</td>\n    </tr>\n    <tr>\n      <th>1</th>\n      <td>NaN</td>\n      <td>SVO</td>\n      <td>2017-12-27</td>\n      <td>04:40</td>\n      <td>NaN</td>\n      <td>MHPBBX</td>\n      <td>False</td>\n      <td>MMK</td>\n      <td>2017-12-27</td>\n      <td>02:15</td>\n      <td>YRSTUQ</td>\n      <td>SU1323</td>\n      <td>KSML</td>\n      <td>9                       FF#FB 284903754</td>\n      <td>NaN</td>\n      <td>Y</td>\n      <td>2244 645520</td>\n      <td>SAMIR</td>\n      <td>KOLOSOV</td>\n      <td>TAMERLANOVICH</td>\n      <td>7398421117936516</td>\n    </tr>\n    <tr>\n      <th>2</th>\n      <td>KupiBilet</td>\n      <td>SVO</td>\n      <td>2017-09-19</td>\n      <td>07:45</td>\n      <td>NaN</td>\n      <td>REDLVB</td>\n      <td>False</td>\n      <td>KJA</td>\n      <td>2017-09-19</td>\n      <td>06:40</td>\n      <td>YSTNJL</td>\n      <td>SU1481</td>\n      <td>NaN</td>\n      <td>F</td>\n      <td>NaN</td>\n      <td>Y</td>\n      <td>8115 961316</td>\n      <td>SNEZHANA</td>\n      <td>IGNATOVA</td>\n      <td>KONSTANTINOVNA</td>\n      <td>5174973140468001</td>\n    </tr>\n    <tr>\n      <th>3</th>\n      <td>Travelgenio</td>\n      <td>VOG</td>\n      <td>2017-03-19</td>\n      <td>01:05</td>\n      <td>0PC</td>\n      <td>NSJNGQ</td>\n      <td>False</td>\n      <td>SVO</td>\n      <td>2017-03-18</td>\n      <td>22:10</td>\n      <td>JFLXLS</td>\n      <td>SU1180</td>\n      <td>NaN</td>\n      <td>#                       FF#FB 884556993</td>\n      <td>1999-05-02</td>\n      <td>J</td>\n      <td>98 6865148</td>\n      <td>PLATON</td>\n      <td>ZHAROV</td>\n      <td>ALBERTOVICH</td>\n      <td>5274206497242737</td>\n    </tr>\n    <tr>\n      <th>4</th>\n      <td>OZON.travel</td>\n      <td>VOG</td>\n      <td>2017-03-19</td>\n      <td>01:05</td>\n      <td>NaN</td>\n      <td>VWNYGF</td>\n      <td>False</td>\n      <td>SVO</td>\n      <td>2017-03-18</td>\n      <td>22:10</td>\n      <td>YFLXPG</td>\n      <td>SU1180</td>\n      <td>NaN</td>\n      <td>FF#SU 183142068</td>\n      <td>1990-12-26</td>\n      <td>Y</td>\n      <td>4396 926588</td>\n      <td>NIKOLAI</td>\n      <td>NIKOLSKII</td>\n      <td>IGOREVICH</td>\n      <td>6247422701565929</td>\n    </tr>\n  </tbody>\n</table>\n</div>"
     },
     "execution_count": 57,
     "metadata": {},
     "output_type": "execute_result"
    },
    {
     "name": "stdout",
     "output_type": "stream",
     "text": [
      "<class 'pandas.core.frame.DataFrame'>\n",
      "RangeIndex: 155757 entries, 0 to 155756\n",
      "Data columns (total 21 columns):\n",
      " #   Column                   Non-Null Count   Dtype \n",
      "---  ------                   --------------   ----- \n",
      " 0   AgentInfo                143814 non-null  object\n",
      " 1   ArrivalAirport           155757 non-null  object\n",
      " 2   ArrivalDate              155757 non-null  object\n",
      " 3   ArrivalTime              155757 non-null  object\n",
      " 4   BaggageCount             85064 non-null   object\n",
      " 5   BookingCode              155757 non-null  object\n",
      " 6   CodeShare                155757 non-null  bool  \n",
      " 7   DepartureAirport         155757 non-null  object\n",
      " 8   DepartureDate            155757 non-null  object\n",
      " 9   DepartureTime            155757 non-null  object\n",
      " 10  Fare                     155757 non-null  object\n",
      " 11  FlightNumber             155757 non-null  object\n",
      " 12  Meal                     58148 non-null   object\n",
      " 13  PassengerAdditionalInfo  130530 non-null  object\n",
      " 14  PassengerBirthDate       77703 non-null   object\n",
      " 15  PassengerClass           155757 non-null  object\n",
      " 16  PassengerDocument        155757 non-null  object\n",
      " 17  PassengerFirstName       155757 non-null  object\n",
      " 18  PassengerLastName        155757 non-null  object\n",
      " 19  PassengerSecondName      155757 non-null  object\n",
      " 20  TicketNumber             155757 non-null  int64 \n",
      "dtypes: bool(1), int64(1), object(19)\n",
      "memory usage: 23.9+ MB\n"
     ]
    },
    {
     "data": {
      "text/plain": "       TicketNumber\ncount  1.557570e+05\nmean   5.010077e+15\nstd    2.881055e+15\nmin    5.811780e+10\n25%    2.521718e+15\n50%    5.019438e+15\n75%    7.499988e+15\nmax    9.999858e+15",
      "text/html": "<div>\n<style scoped>\n    .dataframe tbody tr th:only-of-type {\n        vertical-align: middle;\n    }\n\n    .dataframe tbody tr th {\n        vertical-align: top;\n    }\n\n    .dataframe thead th {\n        text-align: right;\n    }\n</style>\n<table border=\"1\" class=\"dataframe\">\n  <thead>\n    <tr style=\"text-align: right;\">\n      <th></th>\n      <th>TicketNumber</th>\n    </tr>\n  </thead>\n  <tbody>\n    <tr>\n      <th>count</th>\n      <td>1.557570e+05</td>\n    </tr>\n    <tr>\n      <th>mean</th>\n      <td>5.010077e+15</td>\n    </tr>\n    <tr>\n      <th>std</th>\n      <td>2.881055e+15</td>\n    </tr>\n    <tr>\n      <th>min</th>\n      <td>5.811780e+10</td>\n    </tr>\n    <tr>\n      <th>25%</th>\n      <td>2.521718e+15</td>\n    </tr>\n    <tr>\n      <th>50%</th>\n      <td>5.019438e+15</td>\n    </tr>\n    <tr>\n      <th>75%</th>\n      <td>7.499988e+15</td>\n    </tr>\n    <tr>\n      <th>max</th>\n      <td>9.999858e+15</td>\n    </tr>\n  </tbody>\n</table>\n</div>"
     },
     "execution_count": 57,
     "metadata": {},
     "output_type": "execute_result"
    }
   ],
   "source": [
    "sirena_export[['PassengerLastName', 'PassengerFirstName', 'PassengerSecondName']] = sirena_export['PaxName'].str.split(\n",
    "    ' ', expand=True)\n",
    "del sirena_export['PaxName']\n",
    "sirena_export['FlightNumber'] = sirena_export['FlightCodeSh'].str[0:6]\n",
    "sirena_export['CodeShare'] = sirena_export['FlightCodeSh'].str[6:]\n",
    "del sirena_export['FlightCodeSh']\n",
    "sirena_export.rename(columns={\"PaxBirthDate\": \"PassengerBirthDate\", \"Code\": \"BookingCode\", \"e-Ticket\": \"TicketNumber\",\n",
    "                              \"TravelDoc\": \"PassengerDocument\", \"TrvCls\": \"PassengerClass\",\n",
    "                              \"PaxAdditionalInfo\": \"PassengerAdditionalInfo\", \"From\": \"DepartureAirport\",\n",
    "                              \"Dest\": \"ArrivalAirport\", \"DepartDate\": \"DepartureDate\", \"DepartTime\": \"DepartureTime\",\n",
    "                              \"Baggage\": \"BaggageCount\"}, inplace=True)\n",
    "del sirena_export['Seat']\n",
    "sirena_export[\"CodeShare\"].replace({\"YES\": True, \"NO\": False}, inplace=True)\n",
    "\n",
    "transliterator_ru = get_translit_function('ru')\n",
    "\n",
    "\n",
    "def transliterate(val: str):\n",
    "    return transliterator_ru(val, reversed=True)\\\n",
    "        .replace(\"'\", \"\")\\\n",
    "        .replace(\"J\", \"I\")\\\n",
    "        .upper()\n",
    "\n",
    "\n",
    "sirena_export[\"PassengerFirstName\"] = sirena_export[\"PassengerFirstName\"].apply(transliterate)\n",
    "sirena_export[\"PassengerSecondName\"] = sirena_export[\"PassengerSecondName\"].apply(transliterate)\n",
    "sirena_export[\"PassengerLastName\"] = sirena_export[\"PassengerLastName\"].apply(transliterate)\n",
    "\n",
    "sirena_export = sirena_export.reindex(sorted(sirena_export.columns), axis=1)\n",
    "\n",
    "sirena_export.head(5)\n",
    "sirena_export.info()\n",
    "sirena_export.describe()"
   ],
   "metadata": {
    "collapsed": false,
    "pycharm": {
     "name": "#%%\n"
    }
   }
  },
  {
   "cell_type": "markdown",
   "source": [
    "### Preprocess FrequentFlyerForum-Profiles.json"
   ],
   "metadata": {
    "collapsed": false
   }
  },
  {
   "cell_type": "code",
   "execution_count": 58,
   "outputs": [],
   "source": [
    "def prepare_passenger_data(passenger: dict, passenger_flight: dict):\n",
    "    passenger_name = passenger['Real Name']\n",
    "    passenger_flight_data = dict()\n",
    "    passenger_flight_data.update(passenger_flight)\n",
    "    passenger_flight_data.update(\n",
    "        {\n",
    "            \"PassengerNickName\": passenger['NickName'],\n",
    "            \"PassengerDocument\": passenger['Travel Documents'][0]['Passports'],\n",
    "            \"PassengerSex\": passenger['Sex'],\n",
    "            \"PassengerFirstName\": passenger_name['First Name'],\n",
    "            \"PassengerLastName\": passenger_name['Last Name'],\n",
    "            \"DepartureCountry\": passenger_flight['Departure']['Country'],\n",
    "            \"DepartureCity\": passenger_flight['Departure']['City'],\n",
    "            \"DepartureAirport\": passenger_flight['Departure']['Airport'],\n",
    "            \"ArrivalCountry\": passenger_flight['Arrival']['Country'],\n",
    "            \"ArrivalCity\": passenger_flight['Arrival']['City'],\n",
    "            \"ArrivalAirport\": passenger_flight['Arrival']['Airport'],\n",
    "        })\n",
    "    del passenger_flight_data['Departure']\n",
    "    del passenger_flight_data['Arrival']\n",
    "    return passenger_flight_data\n",
    "\n",
    "\n",
    "flights = []\n",
    "\n",
    "with open('data/FrequentFlyerForum-Profiles.json') as frequent_flyer_forum_file:\n",
    "    passengers_data = json.load(frequent_flyer_forum_file)[\"Forum Profiles\"]\n",
    "\n",
    "    for passenger in passengers_data:\n",
    "        passenger_flights = passenger['Registered Flights']\n",
    "        passenger_loyalty_programs = passenger['Loyality Programm']\n",
    "        for passenger_flight in passenger_flights:\n",
    "            flights.append(prepare_passenger_data(passenger, passenger_flight))\n",
    "\n",
    "flights_df = pd.DataFrame(flights)"
   ],
   "metadata": {
    "collapsed": false,
    "pycharm": {
     "name": "#%%\n"
    }
   }
  },
  {
   "cell_type": "code",
   "execution_count": 61,
   "outputs": [
    {
     "data": {
      "text/plain": "  ArrivalAirport    ArrivalCity    ArrivalCountry  CodeShare DepartureAirport  \\\n0            PIT  Pittsburgh PA  United States of      False              BOS   \n1            DTW     Detroit MI  United States of      False              GRB   \n2            LGA    New York NY  United States of      False              PIT   \n3            WAW         Warsaw            Poland       True              SVO   \n4            ATL     Atlanta GA  United States of      False              XNA   \n\n     DepartureCity    DepartureCountry DepartureDate FlightNumber  \\\n0        Boston MA    United States of    2017-03-04       DL3377   \n1     Green Bay WI    United States of    2017-07-21       DL3630   \n2    Pittsburgh PA    United States of    2017-03-22       DL5361   \n3           Moscow  Russian Federation    2017-01-04       SU3702   \n4  Fayetteville AR    United States of    2017-08-08       DL3412   \n\n  PassengerFirstName PassengerLastName PassengerNickName PassengerSex  \n0               None              None    FrequentFlyer0         Male  \n1               None              None    FrequentFlyer0         Male  \n2               None              None    FrequentFlyer0         Male  \n3               None              None    FrequentFlyer0         Male  \n4               None              None    FrequentFlyer0         Male  ",
      "text/html": "<div>\n<style scoped>\n    .dataframe tbody tr th:only-of-type {\n        vertical-align: middle;\n    }\n\n    .dataframe tbody tr th {\n        vertical-align: top;\n    }\n\n    .dataframe thead th {\n        text-align: right;\n    }\n</style>\n<table border=\"1\" class=\"dataframe\">\n  <thead>\n    <tr style=\"text-align: right;\">\n      <th></th>\n      <th>ArrivalAirport</th>\n      <th>ArrivalCity</th>\n      <th>ArrivalCountry</th>\n      <th>CodeShare</th>\n      <th>DepartureAirport</th>\n      <th>DepartureCity</th>\n      <th>DepartureCountry</th>\n      <th>DepartureDate</th>\n      <th>FlightNumber</th>\n      <th>PassengerFirstName</th>\n      <th>PassengerLastName</th>\n      <th>PassengerNickName</th>\n      <th>PassengerSex</th>\n    </tr>\n  </thead>\n  <tbody>\n    <tr>\n      <th>0</th>\n      <td>PIT</td>\n      <td>Pittsburgh PA</td>\n      <td>United States of</td>\n      <td>False</td>\n      <td>BOS</td>\n      <td>Boston MA</td>\n      <td>United States of</td>\n      <td>2017-03-04</td>\n      <td>DL3377</td>\n      <td>None</td>\n      <td>None</td>\n      <td>FrequentFlyer0</td>\n      <td>Male</td>\n    </tr>\n    <tr>\n      <th>1</th>\n      <td>DTW</td>\n      <td>Detroit MI</td>\n      <td>United States of</td>\n      <td>False</td>\n      <td>GRB</td>\n      <td>Green Bay WI</td>\n      <td>United States of</td>\n      <td>2017-07-21</td>\n      <td>DL3630</td>\n      <td>None</td>\n      <td>None</td>\n      <td>FrequentFlyer0</td>\n      <td>Male</td>\n    </tr>\n    <tr>\n      <th>2</th>\n      <td>LGA</td>\n      <td>New York NY</td>\n      <td>United States of</td>\n      <td>False</td>\n      <td>PIT</td>\n      <td>Pittsburgh PA</td>\n      <td>United States of</td>\n      <td>2017-03-22</td>\n      <td>DL5361</td>\n      <td>None</td>\n      <td>None</td>\n      <td>FrequentFlyer0</td>\n      <td>Male</td>\n    </tr>\n    <tr>\n      <th>3</th>\n      <td>WAW</td>\n      <td>Warsaw</td>\n      <td>Poland</td>\n      <td>True</td>\n      <td>SVO</td>\n      <td>Moscow</td>\n      <td>Russian Federation</td>\n      <td>2017-01-04</td>\n      <td>SU3702</td>\n      <td>None</td>\n      <td>None</td>\n      <td>FrequentFlyer0</td>\n      <td>Male</td>\n    </tr>\n    <tr>\n      <th>4</th>\n      <td>ATL</td>\n      <td>Atlanta GA</td>\n      <td>United States of</td>\n      <td>False</td>\n      <td>XNA</td>\n      <td>Fayetteville AR</td>\n      <td>United States of</td>\n      <td>2017-08-08</td>\n      <td>DL3412</td>\n      <td>None</td>\n      <td>None</td>\n      <td>FrequentFlyer0</td>\n      <td>Male</td>\n    </tr>\n  </tbody>\n</table>\n</div>"
     },
     "execution_count": 61,
     "metadata": {},
     "output_type": "execute_result"
    },
    {
     "name": "stdout",
     "output_type": "stream",
     "text": [
      "<class 'pandas.core.frame.DataFrame'>\n",
      "RangeIndex: 1308987 entries, 0 to 1308986\n",
      "Data columns (total 13 columns):\n",
      " #   Column              Non-Null Count    Dtype \n",
      "---  ------              --------------    ----- \n",
      " 0   ArrivalAirport      1308987 non-null  object\n",
      " 1   ArrivalCity         1308987 non-null  object\n",
      " 2   ArrivalCountry      1308987 non-null  object\n",
      " 3   CodeShare           1308987 non-null  bool  \n",
      " 4   DepartureAirport    1308987 non-null  object\n",
      " 5   DepartureCity       1308987 non-null  object\n",
      " 6   DepartureCountry    1308987 non-null  object\n",
      " 7   DepartureDate       1308987 non-null  object\n",
      " 8   FlightNumber        1308987 non-null  object\n",
      " 9   PassengerFirstName  657755 non-null   object\n",
      " 10  PassengerLastName   657755 non-null   object\n",
      " 11  PassengerNickName   1308987 non-null  object\n",
      " 12  PassengerSex        985901 non-null   object\n",
      "dtypes: bool(1), object(12)\n",
      "memory usage: 121.1+ MB\n"
     ]
    },
    {
     "data": {
      "text/plain": "       ArrivalAirport ArrivalCity    ArrivalCountry CodeShare  \\\ncount         1308987     1308987           1308987   1308987   \nunique           1129        1093               182         2   \ntop               SVO      Moscow  United States of     False   \nfreq           133633      137085            227462   1037438   \n\n       DepartureAirport DepartureCity    DepartureCountry DepartureDate  \\\ncount           1308987       1308987             1308987       1308987   \nunique             1129          1093                 182           366   \ntop                 SVO        Moscow  Russian Federation    2017-05-10   \nfreq             133232        139183              279299          6629   \n\n       FlightNumber PassengerFirstName PassengerLastName   PassengerNickName  \\\ncount       1308987             657755            657755             1308987   \nunique        24005                200              1006               66592   \ntop          SU4606           KRISTINA          CHERNYKH  FrequentFlyer60655   \nfreq           2917               4023              1320                  42   \n\n       PassengerSex  \ncount        985901  \nunique            2  \ntop            Male  \nfreq         494134  ",
      "text/html": "<div>\n<style scoped>\n    .dataframe tbody tr th:only-of-type {\n        vertical-align: middle;\n    }\n\n    .dataframe tbody tr th {\n        vertical-align: top;\n    }\n\n    .dataframe thead th {\n        text-align: right;\n    }\n</style>\n<table border=\"1\" class=\"dataframe\">\n  <thead>\n    <tr style=\"text-align: right;\">\n      <th></th>\n      <th>ArrivalAirport</th>\n      <th>ArrivalCity</th>\n      <th>ArrivalCountry</th>\n      <th>CodeShare</th>\n      <th>DepartureAirport</th>\n      <th>DepartureCity</th>\n      <th>DepartureCountry</th>\n      <th>DepartureDate</th>\n      <th>FlightNumber</th>\n      <th>PassengerFirstName</th>\n      <th>PassengerLastName</th>\n      <th>PassengerNickName</th>\n      <th>PassengerSex</th>\n    </tr>\n  </thead>\n  <tbody>\n    <tr>\n      <th>count</th>\n      <td>1308987</td>\n      <td>1308987</td>\n      <td>1308987</td>\n      <td>1308987</td>\n      <td>1308987</td>\n      <td>1308987</td>\n      <td>1308987</td>\n      <td>1308987</td>\n      <td>1308987</td>\n      <td>657755</td>\n      <td>657755</td>\n      <td>1308987</td>\n      <td>985901</td>\n    </tr>\n    <tr>\n      <th>unique</th>\n      <td>1129</td>\n      <td>1093</td>\n      <td>182</td>\n      <td>2</td>\n      <td>1129</td>\n      <td>1093</td>\n      <td>182</td>\n      <td>366</td>\n      <td>24005</td>\n      <td>200</td>\n      <td>1006</td>\n      <td>66592</td>\n      <td>2</td>\n    </tr>\n    <tr>\n      <th>top</th>\n      <td>SVO</td>\n      <td>Moscow</td>\n      <td>United States of</td>\n      <td>False</td>\n      <td>SVO</td>\n      <td>Moscow</td>\n      <td>Russian Federation</td>\n      <td>2017-05-10</td>\n      <td>SU4606</td>\n      <td>KRISTINA</td>\n      <td>CHERNYKH</td>\n      <td>FrequentFlyer60655</td>\n      <td>Male</td>\n    </tr>\n    <tr>\n      <th>freq</th>\n      <td>133633</td>\n      <td>137085</td>\n      <td>227462</td>\n      <td>1037438</td>\n      <td>133232</td>\n      <td>139183</td>\n      <td>279299</td>\n      <td>6629</td>\n      <td>2917</td>\n      <td>4023</td>\n      <td>1320</td>\n      <td>42</td>\n      <td>494134</td>\n    </tr>\n  </tbody>\n</table>\n</div>"
     },
     "execution_count": 61,
     "metadata": {},
     "output_type": "execute_result"
    }
   ],
   "source": [
    "flights_df.rename(columns={\"Date\": \"DepartureDate\", \"Codeshare\": \"CodeShare\", \"Flight\": \"FlightNumber\"}, inplace=True)\n",
    "flights_df = flights_df.reindex(sorted(flights_df.columns), axis=1)\n",
    "del flights_df[\"PassengerDocument\"]\n",
    "\n",
    "flights_df.head(5)\n",
    "flights_df.info()\n",
    "flights_df.describe()"
   ],
   "metadata": {
    "collapsed": false,
    "pycharm": {
     "name": "#%%\n"
    }
   }
  },
  {
   "cell_type": "markdown",
   "source": [
    "### Write date to disk"
   ],
   "metadata": {
    "collapsed": false,
    "pycharm": {
     "name": "#%% md\n"
    }
   }
  },
  {
   "cell_type": "code",
   "execution_count": 62,
   "outputs": [],
   "source": [
    "boarding_data.to_csv(\"preprocessed/BoardingData.csv\", index=False)\n",
    "sirena_export.to_csv(\"preprocessed/SirenaExport.csv\", index=False)\n",
    "flights_df.to_csv(\"preprocessed/FrequentFlyerForumFlights.csv\", index=False)"
   ],
   "metadata": {
    "collapsed": false,
    "pycharm": {
     "name": "#%%\n"
    }
   }
  }
 ],
 "metadata": {
  "kernelspec": {
   "display_name": "Python 3",
   "language": "python",
   "name": "python3"
  },
  "language_info": {
   "codemirror_mode": {
    "name": "ipython",
    "version": 2
   },
   "file_extension": ".py",
   "mimetype": "text/x-python",
   "name": "python",
   "nbconvert_exporter": "python",
   "pygments_lexer": "ipython2",
   "version": "2.7.6"
  }
 },
 "nbformat": 4,
 "nbformat_minor": 0
}