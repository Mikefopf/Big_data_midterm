{
 "cells": [
  {
   "cell_type": "code",
   "execution_count": 1,
   "id": "cdca43ef",
   "metadata": {},
   "outputs": [],
   "source": [
    "import pandas as pd\n",
    "import numpy as np\n",
    "import copy\n",
    "import math\n",
    "from datetime import datetime\n",
    "import time\n",
    "from urllib.parse import quote_plus\n",
    "from sqlalchemy import create_engine\n",
    "import sqlalchemy as sa\n",
    "import os\n",
    "from tqdm import tqdm "
   ]
  },
  {
   "cell_type": "code",
   "execution_count": 34,
   "id": "3c9c0b2f",
   "metadata": {},
   "outputs": [],
   "source": [
    "\n",
    "for dirpath, dirnames, filenames in os.walk('Downloads\\YourBoardingPassDotAero'):\n",
    "    paths =  filenames"
   ]
  },
  {
   "cell_type": "code",
   "execution_count": 38,
   "id": "f4e51c0f",
   "metadata": {},
   "outputs": [],
   "source": [
    "data = []"
   ]
  },
  {
   "cell_type": "code",
   "execution_count": 39,
   "id": "4aab5534",
   "metadata": {},
   "outputs": [
    {
     "name": "stderr",
     "output_type": "stream",
     "text": [
      "100%|██████████████████████████████████████████████████████████████████████████████| 366/366 [1:24:56<00:00, 13.93s/it]\n"
     ]
    }
   ],
   "source": [
    "for i in tqdm(range(len(paths))):   \n",
    "    pth = os.path.join(r'Downloads\\YourBoardingPassDotAero', paths[i])\n",
    "    file = pd.read_excel(pth, sheet_name = None, header = None)\n",
    "    for sh in file.values():\n",
    "        data.append([sh[7][0], sh[0][2], sh[1][2], sh[5][2], sh[0][4], sh[3][4], sh[7][4], \\\n",
    "                     sh[3][6], sh[7][6], sh[0][8], sh[2][8], sh[1][12], sh[4][12], sh[7][2]])\n",
    " "
   ]
  },
  {
   "cell_type": "code",
   "execution_count": 42,
   "id": "a32726ee",
   "metadata": {},
   "outputs": [],
   "source": [
    "itog = pd.DataFrame(data, columns = ['sequence', 'gender', 'name', 'agency', 'flight', 'from', \n",
    "                             'to', 'airport_from', 'airport_to', 'date', 'time', 'pnr', 'TicketNumber', 'class'])"
   ]
  },
  {
   "cell_type": "code",
   "execution_count": 43,
   "id": "856f06e0",
   "metadata": {},
   "outputs": [],
   "source": [
    "itog.to_csv('boarding_passes_upd.csv', index = False, sep = ';', decimal = ',', encoding = 'CP1251')"
   ]
  },
  {
   "cell_type": "code",
   "execution_count": null,
   "id": "f1e5703f",
   "metadata": {},
   "outputs": [],
   "source": []
  }
 ],
 "metadata": {
  "kernelspec": {
   "display_name": "Python 3",
   "language": "python",
   "name": "python3"
  },
  "language_info": {
   "codemirror_mode": {
    "name": "ipython",
    "version": 3
   },
   "file_extension": ".py",
   "mimetype": "text/x-python",
   "name": "python",
   "nbconvert_exporter": "python",
   "pygments_lexer": "ipython3",
   "version": "3.8.8"
  }
 },
 "nbformat": 4,
 "nbformat_minor": 5
}
